{
 "cells": [
  {
   "cell_type": "markdown",
   "id": "af87ef47",
   "metadata": {},
   "source": [
    "### Importing necessary Libraries and Loading Data"
   ]
  },
  {
   "cell_type": "code",
   "execution_count": 23,
   "id": "91bb3e25",
   "metadata": {},
   "outputs": [],
   "source": [
    "import pandas as pd\n",
    "\n",
    "customers = pd.read_csv('Customers.csv')\n",
    "products = pd.read_csv('Products.csv')\n",
    "transactions = pd.read_csv('Transactions.csv')"
   ]
  },
  {
   "cell_type": "markdown",
   "id": "2fc193cf",
   "metadata": {},
   "source": [
    "## Data Preparation"
   ]
  },
  {
   "cell_type": "markdown",
   "id": "cf5713fe",
   "metadata": {},
   "source": [
    "#### Merging Datasets"
   ]
  },
  {
   "cell_type": "code",
   "execution_count": 24,
   "id": "cd259f94",
   "metadata": {},
   "outputs": [],
   "source": [
    "customer_transactions = pd.merge(transactions, customers, on = 'CustomerID')\n",
    "customer_data = pd.merge(customer_transactions, products, on = 'ProductID')"
   ]
  },
  {
   "cell_type": "markdown",
   "id": "b84e77e8",
   "metadata": {},
   "source": [
    "### Feature Engineering"
   ]
  },
  {
   "cell_type": "code",
   "execution_count": 25,
   "id": "35b905eb",
   "metadata": {},
   "outputs": [],
   "source": [
    "customer_features = customer_data.groupby('CustomerID').agg(\n",
    "    {'TotalValue': ['sum', 'mean'], \n",
    "     'Category': 'nunique'}\n",
    ").reset_index()\n",
    "customer_features.columns = ['CustomerID', 'TotalSpending', 'AvgOrderValue', 'ProductDiversity']"
   ]
  },
  {
   "cell_type": "markdown",
   "id": "6117ec27",
   "metadata": {},
   "source": [
    "#### Normalizing Features"
   ]
  },
  {
   "cell_type": "code",
   "execution_count": 26,
   "id": "904d345e",
   "metadata": {},
   "outputs": [],
   "source": [
    "from sklearn.preprocessing import MinMaxScaler\n",
    "\n",
    "scaler = MinMaxScaler()\n",
    "customer_features[['TotalSpending', 'AvgOrderValue', 'ProductDiversity']] = scaler.fit_transform(\n",
    "    customer_features[['TotalSpending', 'AvgOrderValue', 'ProductDiversity']])"
   ]
  },
  {
   "cell_type": "markdown",
   "id": "4c0c76bc",
   "metadata": {},
   "source": [
    "## Lookalike Model"
   ]
  },
  {
   "cell_type": "markdown",
   "id": "d93ae64f",
   "metadata": {},
   "source": [
    "### Computing Similarity Matrix"
   ]
  },
  {
   "cell_type": "code",
   "execution_count": 28,
   "id": "5a22ca17",
   "metadata": {},
   "outputs": [],
   "source": [
    "from sklearn.metrics.pairwise import cosine_similarity\n",
    "\n",
    "similarity_matrix = cosine_similarity(customer_features.iloc[:, 1:])\n",
    "similarity_df = pd.DataFrame(similarity_matrix, \n",
    "                             index = customer_features['CustomerID'], \n",
    "                             columns = customer_features['CustomerID'])"
   ]
  },
  {
   "cell_type": "markdown",
   "id": "d891ab26",
   "metadata": {},
   "source": [
    "### Extracting Top 3 similar Customers"
   ]
  },
  {
   "cell_type": "code",
   "execution_count": 29,
   "id": "39af2a7e",
   "metadata": {},
   "outputs": [],
   "source": [
    "lookalikes = {}\n",
    "for customer in similarity_df.index:\n",
    "    similar_customers = similarity_df.loc[customer].sort_values(ascending=False)[1:4]\n",
    "    lookalikes[customer] = [(sim_id, score) for sim_id, score in similar_customers.items() if sim_id != customer][:3]"
   ]
  },
  {
   "cell_type": "markdown",
   "id": "3061dbde",
   "metadata": {},
   "source": [
    "## Generating output for the First 20 Customers"
   ]
  },
  {
   "cell_type": "markdown",
   "id": "e789265f",
   "metadata": {},
   "source": [
    "### Filtering results for C0001 - C0020"
   ]
  },
  {
   "cell_type": "code",
   "execution_count": 30,
   "id": "8e85466b",
   "metadata": {},
   "outputs": [],
   "source": [
    "lookalike_subset = {custom: lookalikes[custom] for custom in customer_features['CustomerID'][:20]}"
   ]
  },
  {
   "cell_type": "markdown",
   "id": "e34412fe",
   "metadata": {},
   "source": [
    "### Creating a CSV File of Lookalikes and their Similarity Scores"
   ]
  },
  {
   "cell_type": "code",
   "execution_count": 31,
   "id": "a3c5b219",
   "metadata": {},
   "outputs": [],
   "source": [
    "import csv\n",
    "\n",
    "with open('Chetana_Guntupalli_Lookalike.csv', mode = 'w', newline = '') as file:\n",
    "    writer = csv.writer(file)\n",
    "    writer.writerow(['CustomerID', 'Lookalikes'])\n",
    "    for custom, similar in lookalike_subset.items():\n",
    "        writer.writerow([custom, similar])"
   ]
  },
  {
   "cell_type": "code",
   "execution_count": null,
   "id": "8ea33efc",
   "metadata": {},
   "outputs": [],
   "source": []
  }
 ],
 "metadata": {
  "kernelspec": {
   "display_name": "Python 3 (ipykernel)",
   "language": "python",
   "name": "python3"
  },
  "language_info": {
   "codemirror_mode": {
    "name": "ipython",
    "version": 3
   },
   "file_extension": ".py",
   "mimetype": "text/x-python",
   "name": "python",
   "nbconvert_exporter": "python",
   "pygments_lexer": "ipython3",
   "version": "3.9.13"
  }
 },
 "nbformat": 4,
 "nbformat_minor": 5
}
